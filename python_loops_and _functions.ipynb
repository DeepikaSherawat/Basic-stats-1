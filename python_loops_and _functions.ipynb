{
 "cells": [
  {
   "cell_type": "markdown",
   "id": "ed33b876",
   "metadata": {},
   "source": [
    "# For loop"
   ]
  },
  {
   "cell_type": "code",
   "execution_count": 169,
   "id": "bdeddefd",
   "metadata": {},
   "outputs": [
    {
     "data": {
      "text/plain": [
       "[2, 11, 13, 19]"
      ]
     },
     "execution_count": 169,
     "metadata": {},
     "output_type": "execute_result"
    }
   ],
   "source": [
    "#add one to each number in the list\n",
    "\n",
    "l=[1,10,12,18]\n",
    "\n",
    "l[0]=l[0]+1\n",
    "l[1]=l[1]+1\n",
    "\n",
    "l[2]=l[2]+1\n",
    "\n",
    "l[3]=l[3]+1\n",
    "\n",
    "l"
   ]
  },
  {
   "cell_type": "code",
   "execution_count": 308,
   "id": "50adae4e",
   "metadata": {},
   "outputs": [
    {
     "name": "stdout",
     "output_type": "stream",
     "text": [
      "[3, 6, 10, 13, 17]\n"
     ]
    }
   ],
   "source": [
    "#add one to each number in the list\n",
    "\n",
    "l=[2,5,9,12,16]\n",
    "\n",
    "l2=[]\n",
    "\n",
    "for i in l:\n",
    "        l2.append(i+1)\n",
    "print(l2)"
   ]
  },
  {
   "cell_type": "code",
   "execution_count": 175,
   "id": "d7abc065",
   "metadata": {},
   "outputs": [
    {
     "data": {
      "text/plain": [
       "[3, 6, 10, 13, 17]"
      ]
     },
     "execution_count": 175,
     "metadata": {},
     "output_type": "execute_result"
    }
   ],
   "source": [
    "l2"
   ]
  },
  {
   "cell_type": "code",
   "execution_count": 309,
   "id": "9895cd36",
   "metadata": {},
   "outputs": [
    {
     "name": "stdout",
     "output_type": "stream",
     "text": [
      "[10, 100, 120, 180]\n"
     ]
    }
   ],
   "source": [
    "#multiply each number by 10\n",
    "\n",
    "l=[1,10,12,18]\n",
    "l2=[]\n",
    "for i in l:\n",
    "    \n",
    "    l2.append(i*10)\n",
    "\n",
    "print(l2)    \n"
   ]
  },
  {
   "cell_type": "code",
   "execution_count": 171,
   "id": "446d4344",
   "metadata": {},
   "outputs": [
    {
     "data": {
      "text/plain": [
       "[10, 100, 120, 180]"
      ]
     },
     "execution_count": 171,
     "metadata": {},
     "output_type": "execute_result"
    }
   ],
   "source": [
    "\n",
    "l2"
   ]
  },
  {
   "cell_type": "code",
   "execution_count": 177,
   "id": "b2e98402",
   "metadata": {},
   "outputs": [],
   "source": [
    "#find sum of all numbers in the list\n",
    "\n",
    "\n",
    "l=[1,10,12,18]\n",
    "total=0\n",
    "\n",
    "for i in l:\n",
    "    total=total+i\n"
   ]
  },
  {
   "cell_type": "code",
   "execution_count": 178,
   "id": "d1e656d9",
   "metadata": {},
   "outputs": [
    {
     "data": {
      "text/plain": [
       "41"
      ]
     },
     "execution_count": 178,
     "metadata": {},
     "output_type": "execute_result"
    }
   ],
   "source": [
    "total"
   ]
  },
  {
   "cell_type": "code",
   "execution_count": 179,
   "id": "288080e5",
   "metadata": {},
   "outputs": [],
   "source": [
    "# find multiplication of all the numbers in list\n",
    "\n",
    "l=[1,12,11,44]\n",
    "total=1\n",
    "for i in l:\n",
    "    total=total*i"
   ]
  },
  {
   "cell_type": "code",
   "execution_count": 138,
   "id": "92a5a40a",
   "metadata": {},
   "outputs": [
    {
     "data": {
      "text/plain": [
       "5808"
      ]
     },
     "execution_count": 138,
     "metadata": {},
     "output_type": "execute_result"
    }
   ],
   "source": [
    "total"
   ]
  },
  {
   "cell_type": "markdown",
   "id": "28cdbf8a",
   "metadata": {},
   "source": [
    "# if-else "
   ]
  },
  {
   "cell_type": "code",
   "execution_count": 180,
   "id": "41995531",
   "metadata": {},
   "outputs": [],
   "source": [
    "x=10.1\n",
    "\n",
    "if x==10:\n",
    "    print(\"yes\")\n"
   ]
  },
  {
   "cell_type": "code",
   "execution_count": 181,
   "id": "0ce3491d",
   "metadata": {},
   "outputs": [
    {
     "name": "stdout",
     "output_type": "stream",
     "text": [
      "some other language\n"
     ]
    }
   ],
   "source": [
    "s=\"python\"\n",
    "\n",
    "if s==\"java\":\n",
    "    print(\"we are learning java\")\n",
    "    \n",
    "else:\n",
    "    print(\"some other language\")\n"
   ]
  },
  {
   "cell_type": "code",
   "execution_count": 182,
   "id": "82cd87ff",
   "metadata": {},
   "outputs": [],
   "source": [
    "s=\"IIT\">\"NIT\">\"state universities\""
   ]
  },
  {
   "cell_type": "code",
   "execution_count": 183,
   "id": "4329a77b",
   "metadata": {},
   "outputs": [
    {
     "name": "stdout",
     "output_type": "stream",
     "text": [
      "we will go for NITs\n"
     ]
    }
   ],
   "source": [
    "univ=\"NIT\"\n",
    "\n",
    "if univ==\"IIT\":\n",
    "    print(\"we will go for IITs\")\n",
    "\n",
    "elif univ==\"NIT\":\n",
    "    print(\"we will go for NITs\")\n",
    "\n",
    "else:\n",
    "    print(\"we will go for other colleges\")"
   ]
  },
  {
   "cell_type": "code",
   "execution_count": 184,
   "id": "82bd2b84",
   "metadata": {},
   "outputs": [],
   "source": [
    "x=10\n",
    "if x==10:\n",
    "    x=12\n",
    "elif x==12:\n",
    "    x=14\n",
    "elif x==14:\n",
    "    x=18\n",
    "else:\n",
    "    x=19"
   ]
  },
  {
   "cell_type": "code",
   "execution_count": 185,
   "id": "e5e7fbb5",
   "metadata": {},
   "outputs": [
    {
     "data": {
      "text/plain": [
       "12"
      ]
     },
     "execution_count": 185,
     "metadata": {},
     "output_type": "execute_result"
    }
   ],
   "source": [
    "x"
   ]
  },
  {
   "cell_type": "markdown",
   "id": "fb45e84e",
   "metadata": {},
   "source": [
    "# problem solving using for and if-else"
   ]
  },
  {
   "cell_type": "code",
   "execution_count": 189,
   "id": "3e9cda28",
   "metadata": {},
   "outputs": [],
   "source": [
    "#even and odd numbers\n",
    "\n",
    "\n",
    "\n",
    "l=[12,15,13,19,89,78,40]\n",
    "l1=[]\n",
    "l2=[]\n",
    "\n",
    "for i in l:\n",
    "    \n",
    "    if i%2==1:\n",
    "        l1.append(i)\n",
    "    elif i%2==0:\n",
    "        l2.append(i)"
   ]
  },
  {
   "cell_type": "code",
   "execution_count": 190,
   "id": "5d3a009d",
   "metadata": {},
   "outputs": [
    {
     "data": {
      "text/plain": [
       "[15, 13, 19, 89]"
      ]
     },
     "execution_count": 190,
     "metadata": {},
     "output_type": "execute_result"
    }
   ],
   "source": [
    "l1"
   ]
  },
  {
   "cell_type": "code",
   "execution_count": 191,
   "id": "531ca086",
   "metadata": {},
   "outputs": [
    {
     "data": {
      "text/plain": [
       "[12, 78, 40]"
      ]
     },
     "execution_count": 191,
     "metadata": {},
     "output_type": "execute_result"
    }
   ],
   "source": [
    "l2"
   ]
  },
  {
   "cell_type": "code",
   "execution_count": null,
   "id": "5d9ccc1c",
   "metadata": {},
   "outputs": [],
   "source": [
    "# find list of multiple of 24 and another list of numbers not a multiple of 24"
   ]
  },
  {
   "cell_type": "code",
   "execution_count": 192,
   "id": "bb04aa10",
   "metadata": {},
   "outputs": [],
   "source": [
    "# factore of a number\n",
    "\n",
    "number1=24\n",
    "number2=32\n",
    "\n",
    "l1=[]\n",
    "l2=[]\n",
    "\n",
    "for i in range(1, number1+1):\n",
    "    if number1%i==0:\n",
    "        l1.append(i)\n",
    "for i in range(1, number2+1):\n",
    "    if number2%i==0:\n",
    "        l2.append(i)\n",
    "\n",
    "l1=set(l1)\n",
    "l2=set(l2)\n"
   ]
  },
  {
   "cell_type": "code",
   "execution_count": 193,
   "id": "41043950",
   "metadata": {},
   "outputs": [
    {
     "data": {
      "text/plain": [
       "{1, 2, 3, 4, 6, 8, 12, 24}"
      ]
     },
     "execution_count": 193,
     "metadata": {},
     "output_type": "execute_result"
    }
   ],
   "source": [
    "l1"
   ]
  },
  {
   "cell_type": "code",
   "execution_count": 194,
   "id": "bd226f9b",
   "metadata": {},
   "outputs": [
    {
     "data": {
      "text/plain": [
       "{1, 2, 4, 8, 16, 32}"
      ]
     },
     "execution_count": 194,
     "metadata": {},
     "output_type": "execute_result"
    }
   ],
   "source": [
    "l2"
   ]
  },
  {
   "cell_type": "code",
   "execution_count": 195,
   "id": "5f78cb7c",
   "metadata": {},
   "outputs": [],
   "source": [
    "l='alekhya sam ram madhu aaditya anchal deepika'\n",
    "l=l.split()\n",
    "my_dict={}\n",
    "\n",
    "for i in l:\n",
    "  \n",
    "   if i[0] in  my_dict.keys():\n",
    "      my_dict[i[0]].append(i)\n",
    "   else:     \n",
    "    my_dict[i[0]]=[i]"
   ]
  },
  {
   "cell_type": "code",
   "execution_count": 196,
   "id": "bdc29618",
   "metadata": {},
   "outputs": [
    {
     "data": {
      "text/plain": [
       "{'a': ['alekhya', 'aaditya', 'anchal'],\n",
       " 's': ['sam'],\n",
       " 'r': ['ram'],\n",
       " 'm': ['madhu'],\n",
       " 'd': ['deepika']}"
      ]
     },
     "execution_count": 196,
     "metadata": {},
     "output_type": "execute_result"
    }
   ],
   "source": [
    "my_dict"
   ]
  },
  {
   "cell_type": "code",
   "execution_count": 197,
   "id": "1c0855bf",
   "metadata": {},
   "outputs": [],
   "source": [
    "#even odd float\n",
    "\n",
    "a=[1,42,43,1,10.8,23,43,89]\n",
    "\n",
    "l1=[]\n",
    "l2=[]\n",
    "l3=[]\n",
    "\n",
    "for i in a:\n",
    "    if (i%2==0):\n",
    "        l1.append(i)\n",
    "        \n",
    "        \n",
    "    elif (i%2 not in (0,1)):\n",
    "        l2.append(i)        \n",
    "    \n",
    "    else:\n",
    "        \n",
    "        l3.append(i) \n",
    "\n",
    "\n"
   ]
  },
  {
   "cell_type": "code",
   "execution_count": 198,
   "id": "064ca4fb",
   "metadata": {},
   "outputs": [
    {
     "name": "stdout",
     "output_type": "stream",
     "text": [
      "[42]\n",
      "[10.8]\n",
      "[1, 43, 1, 23, 43, 89]\n"
     ]
    }
   ],
   "source": [
    "print(l1)\n",
    "print(l2)\n",
    "print(l3)"
   ]
  },
  {
   "cell_type": "code",
   "execution_count": 199,
   "id": "318d5353",
   "metadata": {},
   "outputs": [],
   "source": [
    "a=24\n",
    "\n",
    "list_of_factors=[]\n",
    "\n",
    "for i in range(1,a+1):\n",
    "    if a%i==0:\n",
    "        list_of_factors.append(i)"
   ]
  },
  {
   "cell_type": "code",
   "execution_count": 200,
   "id": "713536ff",
   "metadata": {},
   "outputs": [
    {
     "name": "stdout",
     "output_type": "stream",
     "text": [
      "[1, 2, 3, 4, 6, 8, 12, 24]\n"
     ]
    }
   ],
   "source": [
    "print(list_of_factors)"
   ]
  },
  {
   "cell_type": "markdown",
   "id": "3096c4ad",
   "metadata": {},
   "source": [
    "# function"
   ]
  },
  {
   "cell_type": "code",
   "execution_count": 201,
   "id": "6de881b3",
   "metadata": {},
   "outputs": [],
   "source": [
    "#lesser or greater number\n",
    "\n",
    "\n",
    "\n",
    "def myfun (x,y):\n",
    "     if x>y:\n",
    "            print(x,\" is a greater number.\")\n",
    "     elif(x==y):\n",
    "            print(x,\" is equal to \",y,\".\")\n",
    "     else:\n",
    "            print(y, \" is greater number \",\".\")"
   ]
  },
  {
   "cell_type": "code",
   "execution_count": 202,
   "id": "4951e6bc",
   "metadata": {},
   "outputs": [
    {
     "name": "stdout",
     "output_type": "stream",
     "text": [
      "13  is greater number  .\n"
     ]
    }
   ],
   "source": [
    "myfun (12,13)"
   ]
  },
  {
   "cell_type": "code",
   "execution_count": 203,
   "id": "7a7a3860",
   "metadata": {},
   "outputs": [],
   "source": [
    "def fun (x):\n",
    "    if x%2==0:\n",
    "        print(x,\"is even number.\")\n",
    "    elif x%2==1:\n",
    "        print(x,\"is odd number.\")\n",
    "    else:\n",
    "        print(x,\"is\",type(x))"
   ]
  },
  {
   "cell_type": "code",
   "execution_count": 204,
   "id": "bfce6780",
   "metadata": {},
   "outputs": [
    {
     "name": "stdout",
     "output_type": "stream",
     "text": [
      "32 is even number.\n"
     ]
    }
   ],
   "source": [
    "fun(32)"
   ]
  },
  {
   "cell_type": "code",
   "execution_count": 205,
   "id": "73ec9173",
   "metadata": {},
   "outputs": [
    {
     "name": "stdout",
     "output_type": "stream",
     "text": [
      "39 is odd number.\n"
     ]
    }
   ],
   "source": [
    "fun(39)"
   ]
  },
  {
   "cell_type": "code",
   "execution_count": 206,
   "id": "1d33d3d8",
   "metadata": {},
   "outputs": [
    {
     "name": "stdout",
     "output_type": "stream",
     "text": [
      "12.3 is <class 'float'>\n"
     ]
    }
   ],
   "source": [
    "fun(12.3)"
   ]
  },
  {
   "cell_type": "code",
   "execution_count": 207,
   "id": "5c9867a4",
   "metadata": {},
   "outputs": [],
   "source": [
    "def fun1 (x):\n",
    "    print (x**2)"
   ]
  },
  {
   "cell_type": "code",
   "execution_count": 208,
   "id": "d59a9e22",
   "metadata": {},
   "outputs": [],
   "source": [
    "def fun2 (x):\n",
    "    return (x**2)"
   ]
  },
  {
   "cell_type": "code",
   "execution_count": 209,
   "id": "aed78097",
   "metadata": {},
   "outputs": [
    {
     "name": "stdout",
     "output_type": "stream",
     "text": [
      "100\n"
     ]
    }
   ],
   "source": [
    "a=fun1 (10) "
   ]
  },
  {
   "cell_type": "code",
   "execution_count": 210,
   "id": "996ea220",
   "metadata": {},
   "outputs": [],
   "source": [
    "b=fun2 (10)"
   ]
  },
  {
   "cell_type": "code",
   "execution_count": 211,
   "id": "e16225a3",
   "metadata": {},
   "outputs": [
    {
     "name": "stdout",
     "output_type": "stream",
     "text": [
      "100\n"
     ]
    }
   ],
   "source": [
    "print(b)"
   ]
  },
  {
   "cell_type": "code",
   "execution_count": null,
   "id": "241f9608",
   "metadata": {},
   "outputs": [],
   "source": [
    "#print just show the user a string repersenting what is going on inside the computer.\n",
    "#the computer cannot male a use of that printing.\n",
    "\n",
    "\n",
    "#return is how a function given back a value.this value is often unseen by user,\n",
    "#but it can be used by the computer in further function."
   ]
  },
  {
   "cell_type": "code",
   "execution_count": 278,
   "id": "966f892b",
   "metadata": {},
   "outputs": [],
   "source": [
    "def factor(x):\n",
    "    \n",
    "    l=[]\n",
    "    for i in range(1,x+1):\n",
    "        if x%i==0:\n",
    "            l.append(i)\n",
    "    print (l)        \n",
    "        "
   ]
  },
  {
   "cell_type": "code",
   "execution_count": 279,
   "id": "49adebd5",
   "metadata": {},
   "outputs": [
    {
     "name": "stdout",
     "output_type": "stream",
     "text": [
      "[1, 3, 9, 27]\n"
     ]
    }
   ],
   "source": [
    "factor(27)"
   ]
  },
  {
   "cell_type": "code",
   "execution_count": 280,
   "id": "51a8cb10",
   "metadata": {},
   "outputs": [
    {
     "name": "stdout",
     "output_type": "stream",
     "text": [
      "[1, 3, 9]\n"
     ]
    }
   ],
   "source": [
    "factor(9)"
   ]
  },
  {
   "cell_type": "code",
   "execution_count": 251,
   "id": "7abb94aa",
   "metadata": {},
   "outputs": [],
   "source": [
    "def gcdFinder(x,y):\n",
    "    global b\n",
    "    for i in range (x,y):\n",
    "        if (x>y):\n",
    "            if y%i==0 and x%i==0:\n",
    "                b=i\n",
    "        elif (x<y):\n",
    "            if x%i==0 and y%i==0:\n",
    "                b=i\n",
    "        else:\n",
    "            if y%i==0:\n",
    "                b=i\n",
    "    return b        "
   ]
  },
  {
   "cell_type": "code",
   "execution_count": 252,
   "id": "6318d275",
   "metadata": {},
   "outputs": [
    {
     "data": {
      "text/plain": [
       "100"
      ]
     },
     "execution_count": 252,
     "metadata": {},
     "output_type": "execute_result"
    }
   ],
   "source": [
    "gcdFinder(40,40)"
   ]
  },
  {
   "cell_type": "code",
   "execution_count": 253,
   "id": "7f35d813",
   "metadata": {},
   "outputs": [
    {
     "data": {
      "text/plain": [
       "100"
      ]
     },
     "execution_count": 253,
     "metadata": {},
     "output_type": "execute_result"
    }
   ],
   "source": [
    "gcdFinder(10,25)"
   ]
  },
  {
   "cell_type": "code",
   "execution_count": 149,
   "id": "424e2612",
   "metadata": {},
   "outputs": [],
   "source": [
    "def gcd(x,y):\n",
    "    global b\n",
    "    for i in range(1,(min(x,y))+1):\n",
    "        if x%i==0 and y%i==0:\n",
    "            b=i\n",
    "    print(b)"
   ]
  },
  {
   "cell_type": "code",
   "execution_count": 254,
   "id": "bfda5c93",
   "metadata": {},
   "outputs": [
    {
     "name": "stdout",
     "output_type": "stream",
     "text": [
      "10\n"
     ]
    }
   ],
   "source": [
    "gcd(10,40)"
   ]
  },
  {
   "cell_type": "code",
   "execution_count": 255,
   "id": "bf337997",
   "metadata": {},
   "outputs": [
    {
     "data": {
      "text/plain": [
       "5"
      ]
     },
     "execution_count": 255,
     "metadata": {},
     "output_type": "execute_result"
    }
   ],
   "source": [
    "min(5,25)"
   ]
  },
  {
   "cell_type": "code",
   "execution_count": 222,
   "id": "44e62381",
   "metadata": {},
   "outputs": [],
   "source": [
    "def primes(x):\n",
    "    if x==1:\n",
    "        print(\"number is not prime\")\n",
    "    for i in range (2,x):\n",
    "        if x%i==0:\n",
    "         print(\"number is not prime\")\n",
    "    else:\n",
    "         print(\"number is prime\")\n",
    "        "
   ]
  },
  {
   "cell_type": "code",
   "execution_count": 223,
   "id": "842a28de",
   "metadata": {},
   "outputs": [
    {
     "name": "stdout",
     "output_type": "stream",
     "text": [
      "number is prime\n"
     ]
    }
   ],
   "source": [
    "primes(53)"
   ]
  },
  {
   "cell_type": "code",
   "execution_count": 224,
   "id": "592919b1",
   "metadata": {},
   "outputs": [],
   "source": [
    "def factor(x):\n",
    "    l=[]\n",
    "    for i in range(2,x+1):\n",
    "       if x%i==0:\n",
    "                l.append(i)\n",
    "    print(l)\n",
    "    "
   ]
  },
  {
   "cell_type": "code",
   "execution_count": 225,
   "id": "7f1ab2bd",
   "metadata": {},
   "outputs": [
    {
     "name": "stdout",
     "output_type": "stream",
     "text": [
      "[2, 3, 4, 6, 8, 12, 24]\n"
     ]
    }
   ],
   "source": [
    "factor(24)"
   ]
  },
  {
   "cell_type": "markdown",
   "id": "5bdf8aa5",
   "metadata": {},
   "source": [
    "# list comprehension"
   ]
  },
  {
   "cell_type": "code",
   "execution_count": 281,
   "id": "474b5ecd",
   "metadata": {},
   "outputs": [],
   "source": [
    "#alternative of for loop"
   ]
  },
  {
   "cell_type": "code",
   "execution_count": 217,
   "id": "4a56f8f8",
   "metadata": {},
   "outputs": [
    {
     "data": {
      "text/plain": [
       "[11, 18, 20, 22]"
      ]
     },
     "execution_count": 217,
     "metadata": {},
     "output_type": "execute_result"
    }
   ],
   "source": [
    "l=[1,8,10,12]\n",
    "\n",
    "l2=[]\n",
    "for i in l:\n",
    "    l2.append(i+10)\n",
    "l2  \n"
   ]
  },
  {
   "cell_type": "code",
   "execution_count": 218,
   "id": "8d93f528",
   "metadata": {},
   "outputs": [
    {
     "data": {
      "text/plain": [
       "[11, 18, 20, 22]"
      ]
     },
     "execution_count": 218,
     "metadata": {},
     "output_type": "execute_result"
    }
   ],
   "source": [
    "l2=[i+10 for i in l]\n",
    "l2"
   ]
  },
  {
   "cell_type": "code",
   "execution_count": 219,
   "id": "981aed49",
   "metadata": {},
   "outputs": [
    {
     "data": {
      "text/plain": [
       "[1]"
      ]
     },
     "execution_count": 219,
     "metadata": {},
     "output_type": "execute_result"
    }
   ],
   "source": [
    "l=[1,8,10,12]\n",
    "\n",
    "l2=[i for i in l if i%2==1]\n",
    "l2"
   ]
  },
  {
   "cell_type": "code",
   "execution_count": 220,
   "id": "6d21cc75",
   "metadata": {},
   "outputs": [
    {
     "data": {
      "text/plain": [
       "[1, 2, 3, 4, 6, 8, 12, 24]"
      ]
     },
     "execution_count": 220,
     "metadata": {},
     "output_type": "execute_result"
    }
   ],
   "source": [
    "number=24\n",
    "\n",
    "l2=[i for i in range(1,number+1) if number%i==0]\n",
    "l2"
   ]
  },
  {
   "cell_type": "code",
   "execution_count": 246,
   "id": "009ce3cb",
   "metadata": {},
   "outputs": [],
   "source": [
    "#write a function on prime number\n",
    "\n",
    "def prime(x):\n",
    "    \n",
    "    if x<=1:\n",
    "        return \"not a prime\"\n",
    "    for i in range (2,x):\n",
    "        if x%i==0:\n",
    "            return \"not a prime\"\n",
    "    return \"prime\"    \n",
    "        \n",
    "    "
   ]
  },
  {
   "cell_type": "code",
   "execution_count": 263,
   "id": "fee50cdd",
   "metadata": {},
   "outputs": [],
   "source": [
    "def prime(x):\n",
    "    \n",
    " return len([i for i in range(2,x) if x%i==0])==0\n",
    "    \n",
    "        \n"
   ]
  },
  {
   "cell_type": "code",
   "execution_count": 264,
   "id": "1594cf12",
   "metadata": {},
   "outputs": [
    {
     "data": {
      "text/plain": [
       "True"
      ]
     },
     "execution_count": 264,
     "metadata": {},
     "output_type": "execute_result"
    }
   ],
   "source": [
    "prime(23)"
   ]
  },
  {
   "cell_type": "code",
   "execution_count": 258,
   "id": "5e0c4cc9",
   "metadata": {},
   "outputs": [],
   "source": [
    "def gcd(a,b):\n",
    "    \n",
    "    \n",
    " common_factors=[i for i in range(1,min(a,b)+1) if a%i==0 and b%i==0]\n",
    " return max(common_factors)"
   ]
  },
  {
   "cell_type": "code",
   "execution_count": 259,
   "id": "9c02181a",
   "metadata": {},
   "outputs": [
    {
     "data": {
      "text/plain": [
       "5"
      ]
     },
     "execution_count": 259,
     "metadata": {},
     "output_type": "execute_result"
    }
   ],
   "source": [
    "gcd(10,25)"
   ]
  },
  {
   "cell_type": "markdown",
   "id": "78d5ef6f",
   "metadata": {},
   "source": [
    "# Map and filter object"
   ]
  },
  {
   "cell_type": "code",
   "execution_count": 226,
   "id": "af4babfc",
   "metadata": {},
   "outputs": [],
   "source": [
    "def fun(a):\n",
    "    for i in range(2,a+1):\n",
    "        if a%i==0:\n",
    "            return \"not a prime\"\n",
    "        else:\n",
    "            return \"prime\""
   ]
  },
  {
   "cell_type": "code",
   "execution_count": 227,
   "id": "788b06f4",
   "metadata": {},
   "outputs": [
    {
     "data": {
      "text/plain": [
       "'prime'"
      ]
     },
     "execution_count": 227,
     "metadata": {},
     "output_type": "execute_result"
    }
   ],
   "source": [
    "fun(23)"
   ]
  },
  {
   "cell_type": "code",
   "execution_count": 228,
   "id": "32ba7654",
   "metadata": {},
   "outputs": [],
   "source": [
    "l=[1,2,3,4,5,6,78,90,34,67]"
   ]
  },
  {
   "cell_type": "code",
   "execution_count": 229,
   "id": "51acc782",
   "metadata": {},
   "outputs": [],
   "source": [
    "output=map(fun,l)"
   ]
  },
  {
   "cell_type": "code",
   "execution_count": 230,
   "id": "6918090f",
   "metadata": {},
   "outputs": [
    {
     "data": {
      "text/plain": [
       "[None,\n",
       " 'not a prime',\n",
       " 'prime',\n",
       " 'not a prime',\n",
       " 'prime',\n",
       " 'not a prime',\n",
       " 'not a prime',\n",
       " 'not a prime',\n",
       " 'not a prime',\n",
       " 'prime']"
      ]
     },
     "execution_count": 230,
     "metadata": {},
     "output_type": "execute_result"
    }
   ],
   "source": [
    "list(output)"
   ]
  },
  {
   "cell_type": "code",
   "execution_count": 231,
   "id": "2b4db5fc",
   "metadata": {},
   "outputs": [],
   "source": [
    "def fun(a):\n",
    "    return a**3"
   ]
  },
  {
   "cell_type": "code",
   "execution_count": 232,
   "id": "3b9c964e",
   "metadata": {},
   "outputs": [
    {
     "data": {
      "text/plain": [
       "27"
      ]
     },
     "execution_count": 232,
     "metadata": {},
     "output_type": "execute_result"
    }
   ],
   "source": [
    "fun(3)"
   ]
  },
  {
   "cell_type": "code",
   "execution_count": 233,
   "id": "980a268c",
   "metadata": {},
   "outputs": [],
   "source": [
    "l=[1,2,3,4,45,456,665,566,43,233,23]"
   ]
  },
  {
   "cell_type": "code",
   "execution_count": 234,
   "id": "d272570c",
   "metadata": {},
   "outputs": [],
   "source": [
    "output=map(fun,l)"
   ]
  },
  {
   "cell_type": "code",
   "execution_count": 235,
   "id": "b289f602",
   "metadata": {},
   "outputs": [
    {
     "data": {
      "text/plain": [
       "[1, 8, 27, 64, 91125, 94818816, 294079625, 181321496, 79507, 12649337, 12167]"
      ]
     },
     "execution_count": 235,
     "metadata": {},
     "output_type": "execute_result"
    }
   ],
   "source": [
    "list(output)"
   ]
  },
  {
   "cell_type": "markdown",
   "id": "bee15ec5",
   "metadata": {},
   "source": [
    "# filter"
   ]
  },
  {
   "cell_type": "code",
   "execution_count": null,
   "id": "3a46ba75",
   "metadata": {},
   "outputs": [],
   "source": [
    "it will give only true values"
   ]
  },
  {
   "cell_type": "code",
   "execution_count": 236,
   "id": "bb84c7f9",
   "metadata": {},
   "outputs": [],
   "source": [
    "def fun(a):\n",
    "    for i in range(2,a+1):\n",
    "        if a%i==0:\n",
    "            return \"not a prime\"\n",
    "        else:\n",
    "            return \"prime\""
   ]
  },
  {
   "cell_type": "code",
   "execution_count": 237,
   "id": "78c08fae",
   "metadata": {},
   "outputs": [
    {
     "name": "stdout",
     "output_type": "stream",
     "text": [
      "0.0\n"
     ]
    }
   ],
   "source": [
    "import time\n",
    "time1=time.time()\n",
    "l=[1,2,3,4,5,6,7,8,8,90,88,66,44,33]\n",
    "time2=time.time()\n",
    "time3=time2-time1\n",
    "print(time3)"
   ]
  },
  {
   "cell_type": "code",
   "execution_count": 238,
   "id": "0a472e68",
   "metadata": {},
   "outputs": [],
   "source": [
    "output=filter(fun,l)"
   ]
  },
  {
   "cell_type": "code",
   "execution_count": 239,
   "id": "6075b6c2",
   "metadata": {},
   "outputs": [
    {
     "data": {
      "text/plain": [
       "[2, 3, 4, 5, 6, 7, 8, 8, 90, 88, 66, 44, 33]"
      ]
     },
     "execution_count": 239,
     "metadata": {},
     "output_type": "execute_result"
    }
   ],
   "source": [
    "list(output)"
   ]
  },
  {
   "cell_type": "markdown",
   "id": "b504f953",
   "metadata": {},
   "source": [
    "# lambda"
   ]
  },
  {
   "cell_type": "code",
   "execution_count": 240,
   "id": "d6cb89fd",
   "metadata": {},
   "outputs": [],
   "source": [
    "def fun(a):\n",
    "    return a**2"
   ]
  },
  {
   "cell_type": "code",
   "execution_count": 241,
   "id": "3358f8b4",
   "metadata": {},
   "outputs": [],
   "source": [
    "fun=lambda a:a**2"
   ]
  },
  {
   "cell_type": "code",
   "execution_count": 242,
   "id": "6be08875",
   "metadata": {},
   "outputs": [
    {
     "data": {
      "text/plain": [
       "9"
      ]
     },
     "execution_count": 242,
     "metadata": {},
     "output_type": "execute_result"
    }
   ],
   "source": [
    "fun(3)"
   ]
  },
  {
   "cell_type": "code",
   "execution_count": 243,
   "id": "02a1569f",
   "metadata": {},
   "outputs": [],
   "source": [
    "def fun(a=0,b=0):\n",
    "    return a+b"
   ]
  },
  {
   "cell_type": "code",
   "execution_count": 244,
   "id": "9a82f9a6",
   "metadata": {},
   "outputs": [
    {
     "data": {
      "text/plain": [
       "0"
      ]
     },
     "execution_count": 244,
     "metadata": {},
     "output_type": "execute_result"
    }
   ],
   "source": [
    "fun()"
   ]
  },
  {
   "cell_type": "code",
   "execution_count": 245,
   "id": "76aaaf99",
   "metadata": {},
   "outputs": [
    {
     "data": {
      "text/plain": [
       "5"
      ]
     },
     "execution_count": 245,
     "metadata": {},
     "output_type": "execute_result"
    }
   ],
   "source": [
    "fun(2,3)"
   ]
  },
  {
   "cell_type": "code",
   "execution_count": 283,
   "id": "cd5d0970",
   "metadata": {},
   "outputs": [],
   "source": [
    "SUM=lambda a,b:a+b"
   ]
  },
  {
   "cell_type": "code",
   "execution_count": 284,
   "id": "f472b96c",
   "metadata": {},
   "outputs": [
    {
     "data": {
      "text/plain": [
       "30"
      ]
     },
     "execution_count": 284,
     "metadata": {},
     "output_type": "execute_result"
    }
   ],
   "source": [
    "SUM(10,20)"
   ]
  },
  {
   "cell_type": "code",
   "execution_count": 285,
   "id": "772816bc",
   "metadata": {},
   "outputs": [],
   "source": [
    "factor=lambda x:[i for i in range(1,x+1) if x%i==0]"
   ]
  },
  {
   "cell_type": "code",
   "execution_count": 286,
   "id": "a343bf61",
   "metadata": {},
   "outputs": [
    {
     "data": {
      "text/plain": [
       "[1, 2, 3, 4, 6, 8, 12, 24]"
      ]
     },
     "execution_count": 286,
     "metadata": {},
     "output_type": "execute_result"
    }
   ],
   "source": [
    "factor(24)"
   ]
  },
  {
   "cell_type": "markdown",
   "id": "fbb429de",
   "metadata": {},
   "source": [
    "# Default values in function"
   ]
  },
  {
   "cell_type": "code",
   "execution_count": 287,
   "id": "580afe24",
   "metadata": {},
   "outputs": [],
   "source": [
    "def fun(a,b):\n",
    "    return a+b"
   ]
  },
  {
   "cell_type": "code",
   "execution_count": 289,
   "id": "469a04ab",
   "metadata": {},
   "outputs": [
    {
     "ename": "TypeError",
     "evalue": "fun() missing 1 required positional argument: 'b'",
     "output_type": "error",
     "traceback": [
      "\u001b[1;31m---------------------------------------------------------------------------\u001b[0m",
      "\u001b[1;31mTypeError\u001b[0m                                 Traceback (most recent call last)",
      "\u001b[1;32mC:\\Users\\DEEPIK~1\\AppData\\Local\\Temp/ipykernel_15880/1638609377.py\u001b[0m in \u001b[0;36m<module>\u001b[1;34m\u001b[0m\n\u001b[1;32m----> 1\u001b[1;33m \u001b[0mfun\u001b[0m\u001b[1;33m(\u001b[0m\u001b[1;36m10\u001b[0m\u001b[1;33m)\u001b[0m \u001b[1;31m# to solve this kind of problem we use default value function\u001b[0m\u001b[1;33m\u001b[0m\u001b[1;33m\u001b[0m\u001b[0m\n\u001b[0m",
      "\u001b[1;31mTypeError\u001b[0m: fun() missing 1 required positional argument: 'b'"
     ]
    }
   ],
   "source": [
    "fun(10) # to solve this kind of problem we use default value function"
   ]
  },
  {
   "cell_type": "code",
   "execution_count": 290,
   "id": "a776d4c2",
   "metadata": {},
   "outputs": [],
   "source": [
    "def fun(a=0,b=0):\n",
    "    return a+b"
   ]
  },
  {
   "cell_type": "code",
   "execution_count": 291,
   "id": "f9693dc7",
   "metadata": {},
   "outputs": [
    {
     "data": {
      "text/plain": [
       "12"
      ]
     },
     "execution_count": 291,
     "metadata": {},
     "output_type": "execute_result"
    }
   ],
   "source": [
    "fun(12)"
   ]
  },
  {
   "cell_type": "markdown",
   "id": "91bb9033",
   "metadata": {},
   "source": [
    "# Error handling"
   ]
  },
  {
   "cell_type": "code",
   "execution_count": 292,
   "id": "ba56c4ae",
   "metadata": {},
   "outputs": [
    {
     "ename": "ZeroDivisionError",
     "evalue": "division by zero",
     "output_type": "error",
     "traceback": [
      "\u001b[1;31m---------------------------------------------------------------------------\u001b[0m",
      "\u001b[1;31mZeroDivisionError\u001b[0m                         Traceback (most recent call last)",
      "\u001b[1;32mC:\\Users\\DEEPIK~1\\AppData\\Local\\Temp/ipykernel_15880/3861525252.py\u001b[0m in \u001b[0;36m<module>\u001b[1;34m\u001b[0m\n\u001b[0;32m      1\u001b[0m \u001b[0mx\u001b[0m\u001b[1;33m=\u001b[0m\u001b[1;36m1\u001b[0m\u001b[1;33m\u001b[0m\u001b[1;33m\u001b[0m\u001b[0m\n\u001b[0;32m      2\u001b[0m \u001b[0my\u001b[0m\u001b[1;33m=\u001b[0m\u001b[1;36m2\u001b[0m\u001b[1;33m\u001b[0m\u001b[1;33m\u001b[0m\u001b[0m\n\u001b[1;32m----> 3\u001b[1;33m \u001b[0mz\u001b[0m\u001b[1;33m=\u001b[0m\u001b[1;36m3\u001b[0m\u001b[1;33m/\u001b[0m\u001b[1;36m0\u001b[0m\u001b[1;33m\u001b[0m\u001b[1;33m\u001b[0m\u001b[0m\n\u001b[0m\u001b[0;32m      4\u001b[0m \u001b[0mp\u001b[0m\u001b[1;33m=\u001b[0m\u001b[1;36m1\u001b[0m\u001b[1;33m\u001b[0m\u001b[1;33m\u001b[0m\u001b[0m\n",
      "\u001b[1;31mZeroDivisionError\u001b[0m: division by zero"
     ]
    }
   ],
   "source": [
    "x=1\n",
    "y=2\n",
    "z=3/0\n",
    "p=1"
   ]
  },
  {
   "cell_type": "code",
   "execution_count": 293,
   "id": "d97d5ac6",
   "metadata": {},
   "outputs": [
    {
     "data": {
      "text/plain": [
       "1"
      ]
     },
     "execution_count": 293,
     "metadata": {},
     "output_type": "execute_result"
    }
   ],
   "source": [
    "x"
   ]
  },
  {
   "cell_type": "code",
   "execution_count": 294,
   "id": "aa01fa8a",
   "metadata": {},
   "outputs": [
    {
     "data": {
      "text/plain": [
       "2"
      ]
     },
     "execution_count": 294,
     "metadata": {},
     "output_type": "execute_result"
    }
   ],
   "source": [
    "y"
   ]
  },
  {
   "cell_type": "code",
   "execution_count": 295,
   "id": "bdd3660d",
   "metadata": {},
   "outputs": [
    {
     "ename": "NameError",
     "evalue": "name 'p' is not defined",
     "output_type": "error",
     "traceback": [
      "\u001b[1;31m---------------------------------------------------------------------------\u001b[0m",
      "\u001b[1;31mNameError\u001b[0m                                 Traceback (most recent call last)",
      "\u001b[1;32mC:\\Users\\DEEPIK~1\\AppData\\Local\\Temp/ipykernel_15880/626125819.py\u001b[0m in \u001b[0;36m<module>\u001b[1;34m\u001b[0m\n\u001b[1;32m----> 1\u001b[1;33m \u001b[0mp\u001b[0m\u001b[1;33m\u001b[0m\u001b[1;33m\u001b[0m\u001b[0m\n\u001b[0m",
      "\u001b[1;31mNameError\u001b[0m: name 'p' is not defined"
     ]
    }
   ],
   "source": [
    "p"
   ]
  },
  {
   "cell_type": "code",
   "execution_count": 297,
   "id": "87bc3279",
   "metadata": {},
   "outputs": [],
   "source": [
    "def fun(a,b):\n",
    "    return a+b"
   ]
  },
  {
   "cell_type": "code",
   "execution_count": 307,
   "id": "5f9b4a48",
   "metadata": {},
   "outputs": [
    {
     "ename": "TypeError",
     "evalue": "can't multiply sequence by non-int of type 'str'",
     "output_type": "error",
     "traceback": [
      "\u001b[1;31m---------------------------------------------------------------------------\u001b[0m",
      "\u001b[1;31mTypeError\u001b[0m                                 Traceback (most recent call last)",
      "\u001b[1;32mC:\\Users\\DEEPIK~1\\AppData\\Local\\Temp/ipykernel_15880/72273380.py\u001b[0m in \u001b[0;36m<module>\u001b[1;34m\u001b[0m\n\u001b[1;32m----> 1\u001b[1;33m \u001b[0mfun\u001b[0m\u001b[1;33m(\u001b[0m\u001b[1;36m1\u001b[0m\u001b[1;33m,\u001b[0m\u001b[1;34m\"\"\u001b[0m\u001b[1;33m*\u001b[0m\u001b[1;34m\"\"\u001b[0m\u001b[1;33m)\u001b[0m\u001b[1;33m\u001b[0m\u001b[1;33m\u001b[0m\u001b[0m\n\u001b[0m",
      "\u001b[1;31mTypeError\u001b[0m: can't multiply sequence by non-int of type 'str'"
     ]
    }
   ],
   "source": [
    "fun(1,\"\"*\"\")"
   ]
  },
  {
   "cell_type": "code",
   "execution_count": 304,
   "id": "a2dce9c6",
   "metadata": {},
   "outputs": [],
   "source": [
    "def fun(a,b):\n",
    "    \n",
    "    try :\n",
    "        return a+b\n",
    "    except:\n",
    "        return \"we got an error\""
   ]
  },
  {
   "cell_type": "code",
   "execution_count": 306,
   "id": "1232a4a4",
   "metadata": {},
   "outputs": [
    {
     "data": {
      "text/plain": [
       "'we got an error'"
      ]
     },
     "execution_count": 306,
     "metadata": {},
     "output_type": "execute_result"
    }
   ],
   "source": [
    "fun(12,\"sddfgg\")"
   ]
  },
  {
   "cell_type": "code",
   "execution_count": null,
   "id": "af781606",
   "metadata": {},
   "outputs": [],
   "source": []
  }
 ],
 "metadata": {
  "kernelspec": {
   "display_name": "Python 3 (ipykernel)",
   "language": "python",
   "name": "python3"
  },
  "language_info": {
   "codemirror_mode": {
    "name": "ipython",
    "version": 3
   },
   "file_extension": ".py",
   "mimetype": "text/x-python",
   "name": "python",
   "nbconvert_exporter": "python",
   "pygments_lexer": "ipython3",
   "version": "3.11.4"
  }
 },
 "nbformat": 4,
 "nbformat_minor": 5
}
