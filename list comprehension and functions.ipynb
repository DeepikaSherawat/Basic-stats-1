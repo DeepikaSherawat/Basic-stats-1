{
 "cells": [
  {
   "cell_type": "markdown",
   "id": "a61dc17b",
   "metadata": {},
   "source": [
    "# list comprehension"
   ]
  },
  {
   "cell_type": "code",
   "execution_count": 7,
   "id": "f770f339",
   "metadata": {},
   "outputs": [],
   "source": [
    "def gcd(a,b):\n",
    "    common_factors=[i for i in range(1,min(a,b)+1) if a%i==0 and b%i==0]\n",
    "    return max(common_factors)"
   ]
  },
  {
   "cell_type": "code",
   "execution_count": 17,
   "id": "375478a6",
   "metadata": {},
   "outputs": [
    {
     "name": "stdout",
     "output_type": "stream",
     "text": [
      "5\n"
     ]
    }
   ],
   "source": [
    "def gcd(a,b):\n",
    "    common_factors=max([i for i in range(1,min(a,b)+1) if a%i==0 and b%i==0])\n",
    "    print(common_factors)\n",
    "gcd(25,20)    "
   ]
  },
  {
   "cell_type": "markdown",
   "id": "236a7688",
   "metadata": {},
   "source": [
    "# gcd(10,25)"
   ]
  },
  {
   "cell_type": "code",
   "execution_count": 12,
   "id": "3ad85105",
   "metadata": {},
   "outputs": [],
   "source": [
    "def prime(x):\n",
    "    \n",
    "        return len([i for i in range(2,x)  if x%i==0])==0"
   ]
  },
  {
   "cell_type": "code",
   "execution_count": 13,
   "id": "02c26ba5",
   "metadata": {},
   "outputs": [
    {
     "data": {
      "text/plain": [
       "True"
      ]
     },
     "execution_count": 13,
     "metadata": {},
     "output_type": "execute_result"
    }
   ],
   "source": [
    "prime(23)"
   ]
  },
  {
   "cell_type": "code",
   "execution_count": 16,
   "id": "93014a06",
   "metadata": {},
   "outputs": [
    {
     "data": {
      "text/plain": [
       "0"
      ]
     },
     "execution_count": 16,
     "metadata": {},
     "output_type": "execute_result"
    }
   ],
   "source": [
    "l=[]\n",
    "len(l)"
   ]
  },
  {
   "cell_type": "markdown",
   "id": "8241bc06",
   "metadata": {},
   "source": [
    "# map "
   ]
  },
  {
   "cell_type": "code",
   "execution_count": 18,
   "id": "df6d15d9",
   "metadata": {},
   "outputs": [],
   "source": [
    "def fun(x):\n",
    "    return x**3"
   ]
  },
  {
   "cell_type": "code",
   "execution_count": 19,
   "id": "285e3753",
   "metadata": {},
   "outputs": [
    {
     "data": {
      "text/plain": [
       "1000"
      ]
     },
     "execution_count": 19,
     "metadata": {},
     "output_type": "execute_result"
    }
   ],
   "source": [
    "fun(10)"
   ]
  },
  {
   "cell_type": "code",
   "execution_count": 47,
   "id": "bb987f65",
   "metadata": {},
   "outputs": [
    {
     "data": {
      "text/plain": [
       "-1678925890462.7002"
      ]
     },
     "execution_count": 47,
     "metadata": {},
     "output_type": "execute_result"
    }
   ],
   "source": [
    "import time\n",
    "time1=time.time()\n",
    "l=[1,23,43,12,34,12,7,5,9]\n",
    "time2=time.time()\n",
    "time2-time1*1000\n",
    "#print(time2-time1)"
   ]
  },
  {
   "cell_type": "code",
   "execution_count": 22,
   "id": "3ce5ad43",
   "metadata": {},
   "outputs": [],
   "source": [
    "output=map(fun,l)"
   ]
  },
  {
   "cell_type": "code",
   "execution_count": 23,
   "id": "4de030e8",
   "metadata": {},
   "outputs": [
    {
     "data": {
      "text/plain": [
       "[1, 12167, 79507, 1728, 39304, 1728, 343, 125, 729]"
      ]
     },
     "execution_count": 23,
     "metadata": {},
     "output_type": "execute_result"
    }
   ],
   "source": [
    "list(output)"
   ]
  },
  {
   "cell_type": "code",
   "execution_count": 30,
   "id": "6edabe1b",
   "metadata": {},
   "outputs": [
    {
     "data": {
      "text/plain": [
       "0.0"
      ]
     },
     "execution_count": 30,
     "metadata": {},
     "output_type": "execute_result"
    }
   ],
   "source": [
    "import time\n",
    "time1=time.time()\n",
    "\n",
    "l=[1,2,3]\n",
    "\n",
    "time2=time.time()\n",
    "time2-time1"
   ]
  },
  {
   "cell_type": "code",
   "execution_count": 25,
   "id": "d84672a8",
   "metadata": {},
   "outputs": [],
   "source": [
    "l2=map(fun,l)"
   ]
  },
  {
   "cell_type": "code",
   "execution_count": 26,
   "id": "6f4a7674",
   "metadata": {},
   "outputs": [
    {
     "data": {
      "text/plain": [
       "[1, 8, 27]"
      ]
     },
     "execution_count": 26,
     "metadata": {},
     "output_type": "execute_result"
    }
   ],
   "source": [
    "list(l2)"
   ]
  },
  {
   "cell_type": "markdown",
   "id": "97f8f90b",
   "metadata": {},
   "source": [
    "# filter object"
   ]
  },
  {
   "cell_type": "code",
   "execution_count": 33,
   "id": "f79de3ac",
   "metadata": {},
   "outputs": [],
   "source": [
    "def even_odd(x):\n",
    "    if x%2==0:\n",
    "        return True\n",
    "    else:\n",
    "        return False\n",
    "    "
   ]
  },
  {
   "cell_type": "code",
   "execution_count": 34,
   "id": "7ee6ca6d",
   "metadata": {},
   "outputs": [
    {
     "data": {
      "text/plain": [
       "False"
      ]
     },
     "execution_count": 34,
     "metadata": {},
     "output_type": "execute_result"
    }
   ],
   "source": [
    "even_odd(21)"
   ]
  },
  {
   "cell_type": "code",
   "execution_count": 35,
   "id": "255f8170",
   "metadata": {},
   "outputs": [
    {
     "data": {
      "text/plain": [
       "True"
      ]
     },
     "execution_count": 35,
     "metadata": {},
     "output_type": "execute_result"
    }
   ],
   "source": [
    "even_odd(10)"
   ]
  },
  {
   "cell_type": "code",
   "execution_count": 37,
   "id": "406a1b74",
   "metadata": {},
   "outputs": [],
   "source": [
    "output=filter(even_odd,[1,2,3,4,5,6,7,8,9])"
   ]
  },
  {
   "cell_type": "code",
   "execution_count": 38,
   "id": "4d9a9f48",
   "metadata": {},
   "outputs": [
    {
     "data": {
      "text/plain": [
       "[2, 4, 6, 8]"
      ]
     },
     "execution_count": 38,
     "metadata": {},
     "output_type": "execute_result"
    }
   ],
   "source": [
    "list(output)"
   ]
  },
  {
   "cell_type": "code",
   "execution_count": 62,
   "id": "19ce33ed",
   "metadata": {},
   "outputs": [],
   "source": [
    "def prime(x):\n",
    "    global isPrime\n",
    "    for i in range(2,x):\n",
    "          isPrime = True\n",
    "          if x%i==0:\n",
    "            isPrime = False\n",
    "            break\n",
    "    return isPrime"
   ]
  },
  {
   "cell_type": "code",
   "execution_count": 65,
   "id": "96010f37",
   "metadata": {},
   "outputs": [
    {
     "data": {
      "text/plain": [
       "True"
      ]
     },
     "execution_count": 65,
     "metadata": {},
     "output_type": "execute_result"
    }
   ],
   "source": [
    "prime(23)"
   ]
  },
  {
   "cell_type": "code",
   "execution_count": 67,
   "id": "d1e0c07b",
   "metadata": {},
   "outputs": [],
   "source": [
    "output=filter(prime,range(1,100))"
   ]
  },
  {
   "cell_type": "code",
   "execution_count": 68,
   "id": "9aa84e59",
   "metadata": {},
   "outputs": [
    {
     "data": {
      "text/plain": [
       "[1,\n",
       " 2,\n",
       " 3,\n",
       " 5,\n",
       " 7,\n",
       " 11,\n",
       " 13,\n",
       " 17,\n",
       " 19,\n",
       " 23,\n",
       " 29,\n",
       " 31,\n",
       " 37,\n",
       " 41,\n",
       " 43,\n",
       " 47,\n",
       " 53,\n",
       " 59,\n",
       " 61,\n",
       " 67,\n",
       " 71,\n",
       " 73,\n",
       " 79,\n",
       " 83,\n",
       " 89,\n",
       " 97]"
      ]
     },
     "execution_count": 68,
     "metadata": {},
     "output_type": "execute_result"
    }
   ],
   "source": [
    "list(output)"
   ]
  },
  {
   "cell_type": "markdown",
   "id": "0cecdc78",
   "metadata": {},
   "source": [
    "# lambda function"
   ]
  },
  {
   "cell_type": "code",
   "execution_count": 69,
   "id": "a9c9d4cb",
   "metadata": {},
   "outputs": [],
   "source": [
    "#lambda function is a compact form for normal function&\n",
    "#list comprehension is a compact form for for loop"
   ]
  },
  {
   "cell_type": "code",
   "execution_count": 70,
   "id": "07307e49",
   "metadata": {},
   "outputs": [],
   "source": [
    "def fun(a):\n",
    "    return a**2"
   ]
  },
  {
   "cell_type": "code",
   "execution_count": 71,
   "id": "809ec15c",
   "metadata": {},
   "outputs": [
    {
     "data": {
      "text/plain": [
       "100"
      ]
     },
     "execution_count": 71,
     "metadata": {},
     "output_type": "execute_result"
    }
   ],
   "source": [
    "fun(10)"
   ]
  },
  {
   "cell_type": "code",
   "execution_count": 72,
   "id": "4830f676",
   "metadata": {},
   "outputs": [],
   "source": [
    "fun=lambda a:a**2"
   ]
  },
  {
   "cell_type": "code",
   "execution_count": 75,
   "id": "61ace9f6",
   "metadata": {},
   "outputs": [],
   "source": [
    "SUM=lambda a,b:a+b"
   ]
  },
  {
   "cell_type": "code",
   "execution_count": 76,
   "id": "22bc2ee2",
   "metadata": {},
   "outputs": [
    {
     "data": {
      "text/plain": [
       "5"
      ]
     },
     "execution_count": 76,
     "metadata": {},
     "output_type": "execute_result"
    }
   ],
   "source": [
    "SUM(2,3)"
   ]
  },
  {
   "cell_type": "code",
   "execution_count": 84,
   "id": "be9c255b",
   "metadata": {},
   "outputs": [],
   "source": [
    "factors=lambda a:[i for i in range(1,a+1) if a%i==0]"
   ]
  },
  {
   "cell_type": "code",
   "execution_count": 86,
   "id": "9c989e88",
   "metadata": {},
   "outputs": [
    {
     "data": {
      "text/plain": [
       "[1, 2, 4, 5, 10, 20]"
      ]
     },
     "execution_count": 86,
     "metadata": {},
     "output_type": "execute_result"
    }
   ],
   "source": [
    "factors(20)"
   ]
  },
  {
   "cell_type": "code",
   "execution_count": 90,
   "id": "feb55803",
   "metadata": {},
   "outputs": [],
   "source": [
    "factors=lambda a:len([i for i in range(1,a+1) if a%i==0])"
   ]
  },
  {
   "cell_type": "code",
   "execution_count": 91,
   "id": "e5c85aeb",
   "metadata": {},
   "outputs": [
    {
     "data": {
      "text/plain": [
       "6"
      ]
     },
     "execution_count": 91,
     "metadata": {},
     "output_type": "execute_result"
    }
   ],
   "source": [
    "factors(20)"
   ]
  },
  {
   "cell_type": "code",
   "execution_count": 94,
   "id": "0d00a243",
   "metadata": {},
   "outputs": [],
   "source": [
    "factors=lambda a:len([i for i in range(1,a+1) if a%i==0])==2"
   ]
  },
  {
   "cell_type": "code",
   "execution_count": 95,
   "id": "7177c101",
   "metadata": {},
   "outputs": [
    {
     "data": {
      "text/plain": [
       "False"
      ]
     },
     "execution_count": 95,
     "metadata": {},
     "output_type": "execute_result"
    }
   ],
   "source": [
    "factors(20)"
   ]
  },
  {
   "cell_type": "markdown",
   "id": "fd35f984",
   "metadata": {},
   "source": [
    "# Default values in function"
   ]
  },
  {
   "cell_type": "code",
   "execution_count": 100,
   "id": "753e0c44",
   "metadata": {},
   "outputs": [],
   "source": [
    "def fun(a=0,b=0):\n",
    "    return a+b"
   ]
  },
  {
   "cell_type": "code",
   "execution_count": 101,
   "id": "aad1db50",
   "metadata": {},
   "outputs": [
    {
     "data": {
      "text/plain": [
       "0"
      ]
     },
     "execution_count": 101,
     "metadata": {},
     "output_type": "execute_result"
    }
   ],
   "source": [
    "fun()"
   ]
  },
  {
   "cell_type": "code",
   "execution_count": 102,
   "id": "c790bd85",
   "metadata": {},
   "outputs": [
    {
     "data": {
      "text/plain": [
       "10"
      ]
     },
     "execution_count": 102,
     "metadata": {},
     "output_type": "execute_result"
    }
   ],
   "source": [
    "fun(10)"
   ]
  },
  {
   "cell_type": "markdown",
   "id": "81e13b6e",
   "metadata": {},
   "source": [
    "# error handling or exception handling"
   ]
  },
  {
   "cell_type": "code",
   "execution_count": 103,
   "id": "411cb93d",
   "metadata": {},
   "outputs": [
    {
     "ename": "ZeroDivisionError",
     "evalue": "division by zero",
     "output_type": "error",
     "traceback": [
      "\u001b[1;31m---------------------------------------------------------------------------\u001b[0m",
      "\u001b[1;31mZeroDivisionError\u001b[0m                         Traceback (most recent call last)",
      "\u001b[1;32mC:\\Users\\DEEPIK~1\\AppData\\Local\\Temp/ipykernel_31408/3861525252.py\u001b[0m in \u001b[0;36m<module>\u001b[1;34m\u001b[0m\n\u001b[0;32m      1\u001b[0m \u001b[0mx\u001b[0m\u001b[1;33m=\u001b[0m\u001b[1;36m1\u001b[0m\u001b[1;33m\u001b[0m\u001b[1;33m\u001b[0m\u001b[0m\n\u001b[0;32m      2\u001b[0m \u001b[0my\u001b[0m\u001b[1;33m=\u001b[0m\u001b[1;36m2\u001b[0m\u001b[1;33m\u001b[0m\u001b[1;33m\u001b[0m\u001b[0m\n\u001b[1;32m----> 3\u001b[1;33m \u001b[0mz\u001b[0m\u001b[1;33m=\u001b[0m\u001b[1;36m3\u001b[0m\u001b[1;33m/\u001b[0m\u001b[1;36m0\u001b[0m\u001b[1;33m\u001b[0m\u001b[1;33m\u001b[0m\u001b[0m\n\u001b[0m\u001b[0;32m      4\u001b[0m \u001b[0mp\u001b[0m\u001b[1;33m=\u001b[0m\u001b[1;36m1\u001b[0m\u001b[1;33m\u001b[0m\u001b[1;33m\u001b[0m\u001b[0m\n",
      "\u001b[1;31mZeroDivisionError\u001b[0m: division by zero"
     ]
    }
   ],
   "source": [
    "x=1\n",
    "y=2\n",
    "z=3/0\n",
    "p=1"
   ]
  },
  {
   "cell_type": "code",
   "execution_count": 104,
   "id": "7ca559a7",
   "metadata": {},
   "outputs": [
    {
     "data": {
      "text/plain": [
       "1"
      ]
     },
     "execution_count": 104,
     "metadata": {},
     "output_type": "execute_result"
    }
   ],
   "source": [
    "x"
   ]
  },
  {
   "cell_type": "code",
   "execution_count": 105,
   "id": "7f838b64",
   "metadata": {},
   "outputs": [
    {
     "data": {
      "text/plain": [
       "2"
      ]
     },
     "execution_count": 105,
     "metadata": {},
     "output_type": "execute_result"
    }
   ],
   "source": [
    "y"
   ]
  },
  {
   "cell_type": "code",
   "execution_count": 106,
   "id": "ea155a41",
   "metadata": {},
   "outputs": [
    {
     "ename": "NameError",
     "evalue": "name 'p' is not defined",
     "output_type": "error",
     "traceback": [
      "\u001b[1;31m---------------------------------------------------------------------------\u001b[0m",
      "\u001b[1;31mNameError\u001b[0m                                 Traceback (most recent call last)",
      "\u001b[1;32mC:\\Users\\DEEPIK~1\\AppData\\Local\\Temp/ipykernel_31408/626125819.py\u001b[0m in \u001b[0;36m<module>\u001b[1;34m\u001b[0m\n\u001b[1;32m----> 1\u001b[1;33m \u001b[0mp\u001b[0m\u001b[1;33m\u001b[0m\u001b[1;33m\u001b[0m\u001b[0m\n\u001b[0m",
      "\u001b[1;31mNameError\u001b[0m: name 'p' is not defined"
     ]
    }
   ],
   "source": [
    "p"
   ]
  },
  {
   "cell_type": "code",
   "execution_count": 107,
   "id": "9ed4cc7d",
   "metadata": {},
   "outputs": [],
   "source": [
    "def fun(a,b):\n",
    "    return a+b"
   ]
  },
  {
   "cell_type": "code",
   "execution_count": 108,
   "id": "749c3056",
   "metadata": {},
   "outputs": [
    {
     "data": {
      "text/plain": [
       "5"
      ]
     },
     "execution_count": 108,
     "metadata": {},
     "output_type": "execute_result"
    }
   ],
   "source": [
    "fun(2,3)"
   ]
  },
  {
   "cell_type": "code",
   "execution_count": 109,
   "id": "ab0561d9",
   "metadata": {},
   "outputs": [
    {
     "ename": "TypeError",
     "evalue": "unsupported operand type(s) for +: 'int' and 'str'",
     "output_type": "error",
     "traceback": [
      "\u001b[1;31m---------------------------------------------------------------------------\u001b[0m",
      "\u001b[1;31mTypeError\u001b[0m                                 Traceback (most recent call last)",
      "\u001b[1;32mC:\\Users\\DEEPIK~1\\AppData\\Local\\Temp/ipykernel_31408/3429331799.py\u001b[0m in \u001b[0;36m<module>\u001b[1;34m\u001b[0m\n\u001b[1;32m----> 1\u001b[1;33m \u001b[0mfun\u001b[0m\u001b[1;33m(\u001b[0m\u001b[1;36m3\u001b[0m\u001b[1;33m,\u001b[0m\u001b[1;34m\"dsfdfhhh\"\u001b[0m\u001b[1;33m)\u001b[0m\u001b[1;33m\u001b[0m\u001b[1;33m\u001b[0m\u001b[0m\n\u001b[0m",
      "\u001b[1;32mC:\\Users\\DEEPIK~1\\AppData\\Local\\Temp/ipykernel_31408/3536191601.py\u001b[0m in \u001b[0;36mfun\u001b[1;34m(a, b)\u001b[0m\n\u001b[0;32m      1\u001b[0m \u001b[1;32mdef\u001b[0m \u001b[0mfun\u001b[0m\u001b[1;33m(\u001b[0m\u001b[0ma\u001b[0m\u001b[1;33m,\u001b[0m\u001b[0mb\u001b[0m\u001b[1;33m)\u001b[0m\u001b[1;33m:\u001b[0m\u001b[1;33m\u001b[0m\u001b[1;33m\u001b[0m\u001b[0m\n\u001b[1;32m----> 2\u001b[1;33m     \u001b[1;32mreturn\u001b[0m \u001b[0ma\u001b[0m\u001b[1;33m+\u001b[0m\u001b[0mb\u001b[0m\u001b[1;33m\u001b[0m\u001b[1;33m\u001b[0m\u001b[0m\n\u001b[0m",
      "\u001b[1;31mTypeError\u001b[0m: unsupported operand type(s) for +: 'int' and 'str'"
     ]
    }
   ],
   "source": [
    "fun(3,\"dsfdfhhh\")"
   ]
  },
  {
   "cell_type": "code",
   "execution_count": 2,
   "id": "686b8f6e",
   "metadata": {},
   "outputs": [],
   "source": [
    "def fun(a,b):\n",
    "    \n",
    "    try:\n",
    "        return a+b\n",
    "    except:\n",
    "        return\"we got an error\"\n",
    "     \n",
    "    "
   ]
  },
  {
   "cell_type": "code",
   "execution_count": 3,
   "id": "863775bd",
   "metadata": {},
   "outputs": [
    {
     "data": {
      "text/plain": [
       "5"
      ]
     },
     "execution_count": 3,
     "metadata": {},
     "output_type": "execute_result"
    }
   ],
   "source": [
    "fun(2,3)"
   ]
  },
  {
   "cell_type": "code",
   "execution_count": 5,
   "id": "621e5788",
   "metadata": {},
   "outputs": [
    {
     "data": {
      "text/plain": [
       "'we got an error'"
      ]
     },
     "execution_count": 5,
     "metadata": {},
     "output_type": "execute_result"
    }
   ],
   "source": [
    "fun(2,\"dfgjl\")"
   ]
  },
  {
   "cell_type": "code",
   "execution_count": null,
   "id": "e0ca2233",
   "metadata": {},
   "outputs": [],
   "source": []
  }
 ],
 "metadata": {
  "kernelspec": {
   "display_name": "Python 3 (ipykernel)",
   "language": "python",
   "name": "python3"
  },
  "language_info": {
   "codemirror_mode": {
    "name": "ipython",
    "version": 3
   },
   "file_extension": ".py",
   "mimetype": "text/x-python",
   "name": "python",
   "nbconvert_exporter": "python",
   "pygments_lexer": "ipython3",
   "version": "3.11.4"
  }
 },
 "nbformat": 4,
 "nbformat_minor": 5
}
